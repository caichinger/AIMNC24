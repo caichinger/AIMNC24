{
 "cells": [
  {
   "cell_type": "markdown",
   "id": "56a94194-0142-4aaa-8fdf-dfd5e36500a1",
   "metadata": {
    "editable": true,
    "slideshow": {
     "slide_type": ""
    },
    "tags": []
   },
   "source": [
    "# Welcome to Session 3!\n",
    "\n",
    "## Asking the right questions "
   ]
  },
  {
   "cell_type": "markdown",
   "id": "9809fa79-4c3c-4026-ba9c-eede555fac8b",
   "metadata": {
    "editable": true,
    "slideshow": {
     "slide_type": "slide"
    },
    "tags": []
   },
   "source": [
    "## Questions?\n",
    "\n",
    "Something you want to clarify before we start.\n",
    "\n",
    "Or in course of the session?"
   ]
  },
  {
   "cell_type": "markdown",
   "id": "2fb92a6c-ebaa-4878-b257-26f799473247",
   "metadata": {
    "editable": true,
    "slideshow": {
     "slide_type": "slide"
    },
    "tags": []
   },
   "source": [
    "## How is your energy level?\n",
    "\n",
    "Between 🧟 and 🚀?"
   ]
  },
  {
   "cell_type": "markdown",
   "id": "0e577169-f4fb-4ca9-bee0-9c8a08194de0",
   "metadata": {
    "editable": true,
    "slideshow": {
     "slide_type": "slide"
    },
    "tags": []
   },
   "source": [
    "Please raise your hand if true 🙋\n",
    "\n",
    "## 1. Did you run some code?\n",
    "\n",
    "## 2. Did you follow up on what we did last time?\n",
    "\n",
    "## 3. Did you work on the email I sent you?\n",
    "\n",
    "---\n",
    "\n",
    "## 4. Are you aware that this course ends in 4 weeks?"
   ]
  },
  {
   "cell_type": "markdown",
   "id": "a4bb606f-e971-4446-890b-f260fe52e0c7",
   "metadata": {
    "editable": true,
    "slideshow": {
     "slide_type": "slide"
    },
    "tags": []
   },
   "source": [
    "# Let's revisit a few things"
   ]
  },
  {
   "cell_type": "markdown",
   "id": "5d806d83-c964-48f7-8bdb-0dc8b45e1dd8",
   "metadata": {
    "editable": true,
    "slideshow": {
     "slide_type": "slide"
    },
    "tags": []
   },
   "source": [
    "## Recall: Principal steps to Build a Model\n",
    "\n",
    "> What do we need to do to build a model?\n",
    "\n",
    "\n",
    "> Optional: Using Python, using scikit-learn"
   ]
  },
  {
   "cell_type": "markdown",
   "id": "7fd3f042-2cbf-4ccb-a20f-9396fd7a010d",
   "metadata": {
    "editable": true,
    "slideshow": {
     "slide_type": "slide"
    },
    "tags": []
   },
   "source": [
    "## Recall: ML Project Checklist\n",
    "\n",
    "> How can we structure our project?\n"
   ]
  },
  {
   "cell_type": "markdown",
   "id": "eb47c2c7-8c6f-4d9e-b6ad-a7dc348b3f9c",
   "metadata": {
    "editable": true,
    "slideshow": {
     "slide_type": "slide"
    },
    "tags": []
   },
   "source": [
    "## Recall: Correlation vs. Causation\n",
    "\n",
    "> What is the difference between correlation and causation?\n",
    "\n",
    "> When does it matter?\n",
    "\n",
    "> If it matters, why?"
   ]
  },
  {
   "cell_type": "markdown",
   "id": "ff561abb-0923-41e4-96e4-b6313f1b412c",
   "metadata": {
    "editable": true,
    "slideshow": {
     "slide_type": ""
    },
    "tags": []
   },
   "source": [
    "## Agenda & Objectives\n",
    "\n",
    "1. Revisit old and introduce new concepts\n",
    "   * A bit of theory and practice\n",
    "   * 2nd revision for marketing use case\n",
    "2. Collect questions\n",
    "3. Collect (partial) answers\n",
    "4. Take a look at Paillasse use case"
   ]
  }
 ],
 "metadata": {
  "kernelspec": {
   "display_name": "Python 3 (ipykernel)",
   "language": "python",
   "name": "python3"
  },
  "language_info": {
   "codemirror_mode": {
    "name": "ipython",
    "version": 3
   },
   "file_extension": ".py",
   "mimetype": "text/x-python",
   "name": "python",
   "nbconvert_exporter": "python",
   "pygments_lexer": "ipython3",
   "version": "3.12.7"
  },
  "toc": {
   "base_numbering": 1
  }
 },
 "nbformat": 4,
 "nbformat_minor": 5
}
