{
 "cells": [
  {
   "cell_type": "markdown",
   "metadata": {
    "colab_type": "text",
    "editable": true,
    "id": "IBqCvFN3As-c",
    "slideshow": {
     "slide_type": "slide"
    },
    "tags": []
   },
   "source": [
    "# Machine Learning and the MNC\n",
    "\n",
    "![xkcd: Machine Learning](https://imgs.xkcd.com/comics/machine_learning.png)\n",
    "\n",
    "[xkcd: Machine Learning](https://xkcd.com/1838/)"
   ]
  },
  {
   "cell_type": "markdown",
   "metadata": {
    "colab_type": "text",
    "editable": true,
    "id": "z3FYe4WnAs-c",
    "slideshow": {
     "slide_type": "slide"
    },
    "tags": []
   },
   "source": [
    "## About this Course"
   ]
  },
  {
   "cell_type": "markdown",
   "metadata": {
    "colab_type": "text",
    "editable": true,
    "id": "z3FYe4WnAs-c",
    "slideshow": {
     "slide_type": "subslide"
    },
    "tags": []
   },
   "source": [
    "### Premises\n",
    "\n",
    "1. Many machine learning methods are relevant and useful in a wide range of \n",
    "academic and non-academic disciplines.\n",
    "\n",
    "1. Machine learning should not be viewed as a black box.\n",
    "\n",
    "1. It is important to know what job is performed by each cog - it is not \n",
    "necessary to have the skills to construct the machine inside the (black) box.\n",
    "\n",
    "1. You are interested in applying machine learning to real-world problems."
   ]
  },
  {
   "cell_type": "markdown",
   "metadata": {
    "colab_type": "text",
    "editable": true,
    "id": "z3FYe4WnAs-c",
    "slideshow": {
     "slide_type": "subslide"
    },
    "tags": []
   },
   "source": [
    "### Vision\n",
    "\n",
    "By the end of the lecture you will:\n",
    "\n",
    "- Understand fundamental machine learning concepts.\n",
    "- Gain hands on experience by working on business-related use cases.\n",
    "- Develop an understanding for typical challenges, be able to ask the right questions when assessing a model and be able to frame business related questions as ML projects."
   ]
  },
  {
   "cell_type": "markdown",
   "metadata": {
    "colab_type": "text",
    "editable": true,
    "id": "z3FYe4WnAs-c",
    "slideshow": {
     "slide_type": "subslide"
    },
    "tags": []
   },
   "source": [
    "### Challenges\n",
    "\n",
    "Machine Learning is a very broad, deep and quickly developing field with progress being made in \n",
    "both academia and industry at breathtaking pace.\n",
    "Yet, fundamental concepts to not change and we will therefore focus on exactly these concept - at times at the price of not applying most state of the art tools or methods.\n",
    "\n",
    "As understanding complex systems is greatly facilitated by gaining practical experience using them, this lecture takes a very hands on approach. In doing so, we will employ the the Python programming language and its Data Science and ML ecosystem. Yet again, for those unfamiliar with Python, learning a new programming language is always a challenge."
   ]
  },
  {
   "cell_type": "markdown",
   "metadata": {
    "colab_type": "text",
    "editable": true,
    "id": "z3FYe4WnAs-c",
    "slideshow": {
     "slide_type": "subslide"
    },
    "tags": []
   },
   "source": [
    "### Notes\n",
    "\n",
    "While we will use Python as primary tool, the concepts discussed in this course are independent of the programming language. However, the employed libraries will help to maintain a high level perspective on the problem without the need to deal with numerical details."
   ]
  },
  {
   "cell_type": "markdown",
   "metadata": {
    "colab_type": "text",
    "editable": true,
    "id": "5pRlHusuAs-e",
    "slideshow": {
     "slide_type": "slide"
    },
    "tags": []
   },
   "source": [
    "## About Machine Learning"
   ]
  },
  {
   "cell_type": "markdown",
   "metadata": {
    "colab_type": "text",
    "editable": true,
    "id": "5pRlHusuAs-e",
    "slideshow": {
     "slide_type": "subslide"
    },
    "tags": []
   },
   "source": [
    "### What are Machine Learning Use Cases?\n",
    "\n",
    "In everyday life:\n",
    "- Automatic face recognition\n",
    "- Automatic text translation\n",
    "- Automatic speech recognition\n",
    "- Spam filter\n",
    "- Recommendation systems\n",
    "- ...\n",
    "\n",
    "And elsewhere:\n",
    "- Fraught detection\n",
    "- Predictive maintenance\n",
    "- Diagnosing diseases\n",
    "- Sentiment/Topic analysis in texts\n",
    "- ...\n",
    "\n",
    "What do these applications have in common?\n",
    "- Data\n",
    "- Complexity\n",
    "- Need to scale as data increases\n",
    "- Need to evolve as data changes\n",
    "- Need to learn from data"
   ]
  },
  {
   "cell_type": "markdown",
   "metadata": {
    "colab_type": "text",
    "editable": true,
    "id": "rKBzP2YIAs-e",
    "slideshow": {
     "slide_type": "subslide"
    },
    "tags": []
   },
   "source": [
    "### What is Machine Learning?\n",
    "\n",
    "\\[ISL]:\n",
    "\n",
    "> *Statistical learning* refers to a vast set of tools for *understanding data*.\n",
    "\n",
    "\\[HandsOn]:\n",
    "\n",
    "> Machine Learning is the science (and art) of programming computers so they can *learn from data*."
   ]
  },
  {
   "cell_type": "markdown",
   "metadata": {
    "colab_type": "text",
    "editable": true,
    "id": "39gnOvT_As-g",
    "slideshow": {
     "slide_type": "subslide"
    },
    "tags": []
   },
   "source": [
    "### How does a Machine Learning Process look like?\n",
    "\n",
    "#### Traditional Approach\n",
    "\n",
    "<a href=\"https://www.oreilly.com/library/view/hands-on-machine-learning/9781491962282/ch01.html\">\n",
    "<img src=\"../images/handson/mlst_0101.png\" alt=\"Traditional Approach\" width=\"50%\">\n",
    "</a>\n",
    "\n",
    "Comments:\n",
    "- Writing rules may be hard if not outright impossible.\n",
    "- Not clear how to update rules when new data arrives."
   ]
  },
  {
   "cell_type": "markdown",
   "metadata": {
    "colab_type": "text",
    "editable": true,
    "id": "39gnOvT_As-g",
    "slideshow": {
     "slide_type": "subslide"
    },
    "tags": []
   },
   "source": [
    "#### Machine Learning Approach\n",
    "\n",
    "<a href=\"https://www.oreilly.com/library/view/hands-on-machine-learning/9781491962282/ch01.html\">\n",
    "<img src=\"../images/handson/mlst_0102.png\" alt=\"Traditional Approach\" width=\"50%\">\n",
    "</a>\n",
    "\n",
    "Comments:\n",
    "- Rule detection/specification is left to an algorithm.\n",
    "- When new data arrives, the model is retrained."
   ]
  },
  {
   "cell_type": "markdown",
   "metadata": {
    "colab_type": "text",
    "editable": true,
    "id": "39gnOvT_As-g",
    "slideshow": {
     "slide_type": "subslide"
    },
    "tags": []
   },
   "source": [
    "Machine Learning systems be automated to incrementally improve over time.\n",
    "\n",
    "<a href=\"https://www.oreilly.com/library/view/hands-on-machine-learning/9781491962282/ch01.html\">\n",
    "<img src=\"../images/handson/mlst_0103.png\" alt=\"ML Approach\" width=\"50%\">\n",
    "</a>"
   ]
  },
  {
   "cell_type": "markdown",
   "metadata": {
    "colab_type": "text",
    "editable": true,
    "id": "39gnOvT_As-g",
    "slideshow": {
     "slide_type": "subslide"
    },
    "tags": []
   },
   "source": [
    "In addition, Machine Learning can be used to gain insights from data that is otherwise not available. It must no necessarily be *lots* of data.\n",
    "\n",
    "<a href=\"https://www.oreilly.com/library/view/hands-on-machine-learning/9781491962282/ch01.html\">\n",
    "<img src=\"../images/handson/mlst_0104.png\" alt=\"Traditional Approach\" width=\"50%\">\n",
    "</a>"
   ]
  },
  {
   "cell_type": "markdown",
   "metadata": {
    "colab_type": "text",
    "editable": true,
    "id": "gqqVi1RoAs-h",
    "slideshow": {
     "slide_type": "subslide"
    },
    "tags": []
   },
   "source": [
    "### What is Machine Learning good for?\n",
    "\n",
    "\\[HandsOn]:\n",
    "\n",
    "> Machine Learning is great for:\n",
    "> - Problems for which existing solutions require a lot of hand-tuning or long lists of rules: one Machine Learning algorithm can often simplify code and perform better\n",
    "> - Complex problems for which there is no good solution at all using traditional approach: the best Machine Learning techniques can [may] find a solution.\n",
    "> - Fluctuating environments: a Machine Learning system can adapt to new data.\n",
    "> - Getting insights about problems and (large amounts of) data.\n",
    "\n",
    "Machine Learning is typically used as part of a decision making process and may therefore be accompanied by (or even include) a cost benefit analysis."
   ]
  },
  {
   "cell_type": "markdown",
   "metadata": {
    "colab_type": "text",
    "editable": true,
    "id": "Rqc7emHmAs-k",
    "slideshow": {
     "slide_type": "slide"
    },
    "tags": []
   },
   "source": [
    "## Python\n",
    "\n",
    "> Python is an interpreted, high-level, general-purpose programming language.\n",
    "\n",
    "> Created by Guido van Rossum and first released in 1991, Python's design philosophy emphasizes code readability [...].\n",
    "\n",
    "> Its language constructs [...] aim to help programmers write clear, logical code for small and large-scale projects.\n",
    "\n",
    "[Wikipedia](https://en.wikipedia.org/wiki/Python_(programming_language))\n",
    "\n",
    "---\n",
    "\n",
    "*Python has a very large scientific computing and Machine Learning ecosystem.*"
   ]
  },
  {
   "cell_type": "markdown",
   "metadata": {
    "colab_type": "text",
    "editable": true,
    "id": "rxjvozPuAs-l",
    "slideshow": {
     "slide_type": "slide"
    },
    "tags": []
   },
   "source": [
    "## Machine Learning with Python\n",
    "\n",
    "In this lecture, we will primarily use [scikit-learn](https://scikit-learn.org/stable/).\n",
    "\n",
    "\n",
    "<a href=\"https://scikit-learn.org/stable/\">\n",
    "<img src=\"../images/sklearn/scikit-learn-logo-small.png\" alt=\"scikit learn\" width=\"20%\">\n",
    "</a>\n",
    "\n",
    "Scikit-learn is a prominent, production-ready library used in both academia and industry with [endorsements](https://scikit-learn.org/stable/testimonials/testimonials.html) from e.g. [JPMorgan](https://www.jpmorgan.com/), [Spotify](https://www.spotify.com/), [Inria](https://www.inria.fr/), [Evernote](https://evernote.com/) and others.\n",
    "\n",
    "One of the particular features is its very simple and uniform [API](https://en.wikipedia.org/wiki/Application_programming_interface) which allows to use a wide range of different models through very little different commands.\n",
    "In addition, it provides a set of utilities typically needed for developing a Machine Learning system."
   ]
  },
  {
   "cell_type": "markdown",
   "metadata": {
    "colab_type": "text",
    "editable": true,
    "id": "3F6Xzh7FAs-m",
    "slideshow": {
     "slide_type": "subslide"
    },
    "tags": []
   },
   "source": [
    "### Generic Use\n",
    "\n",
    "Using scikit-learn typically involves at least the following steps:\n",
    "\n",
    "```python\n",
    "# 0. train test split\n",
    "X_train, X_test, y_train, y_test = train_test_split(X, y)\n",
    "\n",
    "# 1. choose a model\n",
    "from sklearn.model_family import DesiredModel\n",
    "\n",
    "# 2. instantiate a model with certain parameters\n",
    "model = DesiredModel(model_parameters)\n",
    "\n",
    "# 3. fit a model to the data\n",
    "model.fit(X_train, y_train)\n",
    "\n",
    "# 4. evaluate\n",
    "model.score(X_test, y_test), model.score(X_train, y_train)\n",
    "\n",
    "# 5. use the model to make a prediction\n",
    "y_new = model.predict(X_new)\n",
    "```\n",
    "\n",
    "Although there are a lot of things going on in the background, the basic actions always take a form similar to this."
   ]
  },
  {
   "cell_type": "markdown",
   "metadata": {
    "colab_type": "text",
    "editable": true,
    "id": "UhatfR4wAs-n",
    "slideshow": {
     "slide_type": "subslide"
    },
    "tags": []
   },
   "source": [
    "### A Simple Example\n",
    "\n",
    "**Problem:**\n",
    "- Input: 2D data, i.e. variables x1 and x2\n",
    "- Output: binary, i.e. a variable y taking only values {0, 1} (=classes)\n",
    "- Objective: separate input space according to class values"
   ]
  },
  {
   "cell_type": "code",
   "execution_count": 1,
   "metadata": {
    "colab": {},
    "colab_type": "code",
    "editable": true,
    "id": "sAdmav1hAs-o",
    "outputId": "303c011f-3073-485c-c719-3e382a1de9e8",
    "slideshow": {
     "slide_type": ""
    },
    "tags": []
   },
   "outputs": [
    {
     "data": {
      "text/plain": [
       "(<Figure size 640x480 with 1 Axes>, <Axes: >)"
      ]
     },
     "execution_count": 1,
     "metadata": {},
     "output_type": "execute_result"
    },
    {
     "data": {
      "image/png": "[encoded data removed]",
      "text/plain": [
       "<Figure size 640x480 with 1 Axes>"
      ]
     },
     "metadata": {},
     "output_type": "display_data"
    }
   ],
   "source": [
    "import matplotlib.pyplot as plt\n",
    "from mlxtend.plotting import plot_decision_regions\n",
    "from sklearn.datasets import make_moons\n",
    "from sklearn.ensemble import RandomForestClassifier\n",
    "\n",
    "\n",
    "def load_data(**wargs):\n",
    "    # experiment by setting the parameters to different values \n",
    "    # and observe the result\n",
    "    return make_moons(n_samples=200, noise=0.3, random_state=42)\n",
    "\n",
    "def visualize_data(X, y):\n",
    "    fig, ax = plt.subplots()\n",
    "    ax.scatter(X[:, 0], X[:, 1], c=y)\n",
    "    return fig, ax\n",
    "\n",
    "\n",
    "X, y = load_data()\n",
    "visualize_data(X, y)"
   ]
  },
  {
   "cell_type": "code",
   "execution_count": 2,
   "metadata": {
    "colab": {},
    "colab_type": "code",
    "editable": true,
    "id": "TzjKgqYUAs-u",
    "outputId": "b686b68c-9695-4578-84d4-aec376787ff4",
    "slideshow": {
     "slide_type": "subslide"
    },
    "tags": []
   },
   "outputs": [
    {
     "data": {
      "text/plain": [
       "<Axes: >"
      ]
     },
     "execution_count": 2,
     "metadata": {},
     "output_type": "execute_result"
    },
    {
     "data": {
      "image/png": "[encoded data removed]",
      "text/plain": [
       "<Figure size 640x480 with 1 Axes>"
      ]
     },
     "metadata": {},
     "output_type": "display_data"
    }
   ],
   "source": [
    "# SCIKIT-LEARN: start\n",
    "\n",
    "# 1. chose a model\n",
    "from sklearn.ensemble import RandomForestClassifier\n",
    "# 2. set model parameters (perform parameter search e.g. using GridSearchCV)\n",
    "model = RandomForestClassifier(n_estimators=100, random_state=42)\n",
    "# 3. fit model\n",
    "model.fit(X, y)\n",
    "# 4. predict\n",
    "model.predict(X)\n",
    "# 5. inspect\n",
    "plot_decision_regions(X, y, clf=model, legend=2)\n",
    "\n",
    "# SCIKIT-LEARN: end"
   ]
  },
  {
   "cell_type": "markdown",
   "metadata": {
    "colab_type": "text",
    "id": "tsbzPeW0As-y",
    "slideshow": {
     "slide_type": "subslide"
    }
   },
   "source": [
    "Observe how the model has successfully captured the shape of the data."
   ]
  },
  {
   "cell_type": "markdown",
   "metadata": {
    "colab_type": "text",
    "editable": true,
    "id": "h22BfuksAs-z",
    "slideshow": {
     "slide_type": "slide"
    },
    "tags": []
   },
   "source": [
    "## A First Application\n",
    "\n",
    "*Head over to the advertising notebook.*"
   ]
  }
 ],
 "metadata": {
  "celltoolbar": "Slideshow",
  "colab": {
   "collapsed_sections": [],
   "name": "introduction.ipynb",
   "provenance": [],
   "toc_visible": true
  },
  "kernelspec": {
   "display_name": "Python 3 (ipykernel)",
   "language": "python",
   "name": "python3"
  },
  "language_info": {
   "codemirror_mode": {
    "name": "ipython",
    "version": 3
   },
   "file_extension": ".py",
   "mimetype": "text/x-python",
   "name": "python",
   "nbconvert_exporter": "python",
   "pygments_lexer": "ipython3",
   "version": "3.12.7"
  },
  "toc": {
   "base_numbering": 1,
   "nav_menu": {},
   "number_sections": true,
   "sideBar": true,
   "skip_h1_title": true,
   "title_cell": "Table of Contents",
   "title_sidebar": "Contents",
   "toc_cell": false,
   "toc_position": {
    "height": "calc(100% - 180px)",
    "left": "10px",
    "top": "150px",
    "width": "320px"
   },
   "toc_section_display": true,
   "toc_window_display": true
  }
 },
 "nbformat": 4,
 "nbformat_minor": 4
}
