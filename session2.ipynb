{
 "cells": [
  {
   "cell_type": "markdown",
   "id": "56a94194-0142-4aaa-8fdf-dfd5e36500a1",
   "metadata": {
    "editable": true,
    "slideshow": {
     "slide_type": "slide"
    },
    "tags": []
   },
   "source": [
    "# Welcome to Session 2!\n",
    "\n",
    "## ML for MNCs"
   ]
  },
  {
   "cell_type": "markdown",
   "id": "9809fa79-4c3c-4026-ba9c-eede555fac8b",
   "metadata": {
    "editable": true,
    "slideshow": {
     "slide_type": "slide"
    },
    "tags": []
   },
   "source": [
    "## Questions?\n",
    "\n",
    "Something you want to clarify before we start.\n",
    "\n",
    "Or in course of the session?"
   ]
  },
  {
   "cell_type": "markdown",
   "id": "2fb92a6c-ebaa-4878-b257-26f799473247",
   "metadata": {
    "editable": true,
    "slideshow": {
     "slide_type": "slide"
    },
    "tags": []
   },
   "source": [
    "## How are you?\n",
    "\n",
    "Using a thumb-scale between 👎 and 👍."
   ]
  },
  {
   "cell_type": "markdown",
   "id": "5d806d83-c964-48f7-8bdb-0dc8b45e1dd8",
   "metadata": {
    "editable": true,
    "slideshow": {
     "slide_type": "slide"
    },
    "tags": []
   },
   "source": [
    "## Recall: Explain Equations\n",
    "\n",
    "Please associate and explain:\n",
    "\n",
    "![](./images/pre_class/explain_equations.png)"
   ]
  },
  {
   "cell_type": "markdown",
   "id": "7fd3f042-2cbf-4ccb-a20f-9396fd7a010d",
   "metadata": {
    "editable": true,
    "slideshow": {
     "slide_type": "slide"
    },
    "tags": []
   },
   "source": [
    "## Recall: Describe Fit\n",
    "\n",
    "Describe the fit:\n",
    "\n",
    "![](./images/pre_class/describe_fit.png)"
   ]
  },
  {
   "cell_type": "markdown",
   "id": "eb47c2c7-8c6f-4d9e-b6ad-a7dc348b3f9c",
   "metadata": {
    "editable": true,
    "slideshow": {
     "slide_type": "slide"
    },
    "tags": []
   },
   "source": [
    "## Recall: Instance Based Classification\n",
    "\n",
    "* Where would your draw the decision boundary?\n",
    "* How would you therefore classify?\n",
    "  * How confident are you?\n",
    "\n",
    "![](./images/pre_class/instance_based_classification.png)"
   ]
  },
  {
   "cell_type": "markdown",
   "id": "ff561abb-0923-41e4-96e4-b6313f1b412c",
   "metadata": {
    "editable": true,
    "slideshow": {
     "slide_type": "slide"
    },
    "tags": []
   },
   "source": [
    "## Agenda & Objectives\n",
    "\n",
    "1. Use case\n",
    "2. Some additional context\n",
    "3. Setup"
   ]
  }
 ],
 "metadata": {
  "kernelspec": {
   "display_name": "Python 3 (ipykernel)",
   "language": "python",
   "name": "python3"
  },
  "language_info": {
   "codemirror_mode": {
    "name": "ipython",
    "version": 3
   },
   "file_extension": ".py",
   "mimetype": "text/x-python",
   "name": "python",
   "nbconvert_exporter": "python",
   "pygments_lexer": "ipython3",
   "version": "3.12.7"
  }
 },
 "nbformat": 4,
 "nbformat_minor": 5
}
