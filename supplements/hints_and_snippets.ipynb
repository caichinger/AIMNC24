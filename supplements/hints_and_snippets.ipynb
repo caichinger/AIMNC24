{
 "cells": [
  {
   "cell_type": "markdown",
   "id": "b943b3a8-1a51-4238-b14f-0334bf49cc82",
   "metadata": {},
   "source": [
    "# Hints & Snippets"
   ]
  },
  {
   "cell_type": "markdown",
   "id": "e8130d7b-b5d2-4f57-9f40-503b497215e6",
   "metadata": {},
   "source": [
    "## Problem Solving\n",
    "\n",
    "Here are a few problem solving strategies I invite you to consider:\n",
    "* What vs how:\n",
    "  * **What** do you want? \n",
    "  * **How** do you get there?\n",
    "  * When you know **what** you want, we (or the internet) can help you with the **how**\n",
    "* Paper coding: **What** do you want? Before you get bogged down in technical details (the **how** part of your implementation), forget all details and make a sketch.\n",
    "* Simplify: How can you simplify the problem, solve the simplified version and then iterate?\n",
    "* Divide and conquer: How can you break the problem down into (isolated) parts, work on them in isolation and then put them together later?"
   ]
  },
  {
   "cell_type": "markdown",
   "id": "4c174c5f-5b3c-4065-a640-07ea219e5576",
   "metadata": {},
   "source": [
    "## Modelling\n",
    "\n",
    "### Models\n",
    "\n",
    "Questions:\n",
    "* What kind of problem do we have?\n",
    "* Do we have categorical variables?\n",
    "  * If yes, do we need specific preprocessing for our model?\n",
    "\n",
    "Model candidates:\n",
    "* Logistic Regression\n",
    "* Random Forest\n",
    "* Histogram-based Gradient Boosting Classification Tree\n",
    "\n",
    "Comments:\n",
    "* The first two models are described in ISL.\n",
    "* You are invited to take a look but you can equally well treat them as a black box.\n",
    "* All models are available in scikit-learn.\n",
    "* The logistic regression is most similar to what we did already in class. It requires some preprocessing (which?).\n",
    "* Two ensemble methods (which?) require less preprocessing than the logistic regression (why?).\n",
    "* In a sense (which?) the random forest might be easiest to work with for a start.\n",
    "\n",
    "### Cross Validation\n",
    "\n",
    "Questions:\n",
    "* What kind of problem do we have?\n",
    "\n",
    "Comments:\n",
    "* Recall that our target variable is very unbalanced.\n",
    "* We can account for that by creating stratified splits.\n",
    "* See https://scikit-learn.org/stable/modules/cross_validation.html#cross-validation-iterators-with-stratification-based-on-class-labels"
   ]
  },
  {
   "cell_type": "markdown",
   "id": "6012e1cf-76ca-42b3-b74a-f909788de037",
   "metadata": {},
   "source": [
    "## Snippets"
   ]
  },
  {
   "cell_type": "code",
   "execution_count": 1,
   "id": "84e59cf9-3c91-4080-9fa4-ce532f022ab0",
   "metadata": {},
   "outputs": [
    {
     "name": "stdout",
     "output_type": "stream",
     "text": [
      "Using matplotlib backend: module://matplotlib_inline.backend_inline\n"
     ]
    }
   ],
   "source": [
    "import pandas as pd\n",
    "\n",
    "%matplotlib"
   ]
  },
  {
   "cell_type": "code",
   "execution_count": 2,
   "id": "41f7f98e-0828-4fb4-8435-606758acc15b",
   "metadata": {},
   "outputs": [
    {
     "data": {
      "text/html": [
       "<div>\n",
       "<style scoped>\n",
       "    .dataframe tbody tr th:only-of-type {\n",
       "        vertical-align: middle;\n",
       "    }\n",
       "\n",
       "    .dataframe tbody tr th {\n",
       "        vertical-align: top;\n",
       "    }\n",
       "\n",
       "    .dataframe thead th {\n",
       "        text-align: right;\n",
       "    }\n",
       "</style>\n",
       "<table border=\"1\" class=\"dataframe\">\n",
       "  <thead>\n",
       "    <tr style=\"text-align: right;\">\n",
       "      <th></th>\n",
       "      <th>targetC</th>\n",
       "      <th>previous_year</th>\n",
       "      <th>year</th>\n",
       "      <th>comp_id</th>\n",
       "      <th>id</th>\n",
       "      <th>homeC</th>\n",
       "      <th>sales</th>\n",
       "      <th>assets</th>\n",
       "      <th>profit</th>\n",
       "      <th>investdum</th>\n",
       "      <th>Time.Code</th>\n",
       "      <th>Country.Name</th>\n",
       "      <th>GDPgrowth_p.a.prc</th>\n",
       "      <th>GDP.USD</th>\n",
       "      <th>polconiii</th>\n",
       "      <th>distance</th>\n",
       "    </tr>\n",
       "  </thead>\n",
       "  <tbody>\n",
       "    <tr>\n",
       "      <th>326336</th>\n",
       "      <td>SGP</td>\n",
       "      <td>2009</td>\n",
       "      <td>2010</td>\n",
       "      <td>US274384691</td>\n",
       "      <td>1228897</td>\n",
       "      <td>USA</td>\n",
       "      <td>7.355060e+05</td>\n",
       "      <td>1.115800e+05</td>\n",
       "      <td>3504.000000</td>\n",
       "      <td>False</td>\n",
       "      <td>YR2009</td>\n",
       "      <td>Singapore</td>\n",
       "      <td>0.120983</td>\n",
       "      <td>1.941523e+11</td>\n",
       "      <td>0.031556</td>\n",
       "      <td>15163.044010</td>\n",
       "    </tr>\n",
       "    <tr>\n",
       "      <th>241394</th>\n",
       "      <td>KOR</td>\n",
       "      <td>2009</td>\n",
       "      <td>2010</td>\n",
       "      <td>DE5190661252</td>\n",
       "      <td>711145</td>\n",
       "      <td>DEU</td>\n",
       "      <td>1.108559e+06</td>\n",
       "      <td>4.343603e+02</td>\n",
       "      <td>15538.315860</td>\n",
       "      <td>False</td>\n",
       "      <td>YR2009</td>\n",
       "      <td>Korea, Rep.</td>\n",
       "      <td>0.792699</td>\n",
       "      <td>9.439419e+11</td>\n",
       "      <td>0.435867</td>\n",
       "      <td>8553.181257</td>\n",
       "    </tr>\n",
       "    <tr>\n",
       "      <th>129389</th>\n",
       "      <td>GBR</td>\n",
       "      <td>2011</td>\n",
       "      <td>2012</td>\n",
       "      <td>GBOC303117</td>\n",
       "      <td>278132</td>\n",
       "      <td>GBR</td>\n",
       "      <td>2.227746e+05</td>\n",
       "      <td>1.566833e+05</td>\n",
       "      <td>178389.893900</td>\n",
       "      <td>False</td>\n",
       "      <td>YR2011</td>\n",
       "      <td>United Kingdom</td>\n",
       "      <td>1.275708</td>\n",
       "      <td>2.659882e+12</td>\n",
       "      <td>0.409177</td>\n",
       "      <td>0.000000</td>\n",
       "    </tr>\n",
       "    <tr>\n",
       "      <th>259640</th>\n",
       "      <td>MEX</td>\n",
       "      <td>2011</td>\n",
       "      <td>2012</td>\n",
       "      <td>CA189872457L</td>\n",
       "      <td>1345904</td>\n",
       "      <td>CAN</td>\n",
       "      <td>6.881644e+05</td>\n",
       "      <td>6.000205e+06</td>\n",
       "      <td>99091.352340</td>\n",
       "      <td>False</td>\n",
       "      <td>YR2011</td>\n",
       "      <td>Mexico</td>\n",
       "      <td>3.663008</td>\n",
       "      <td>1.180490e+12</td>\n",
       "      <td>0.400424</td>\n",
       "      <td>4155.410253</td>\n",
       "    </tr>\n",
       "    <tr>\n",
       "      <th>227327</th>\n",
       "      <td>JPN</td>\n",
       "      <td>2010</td>\n",
       "      <td>2011</td>\n",
       "      <td>IN0002585651</td>\n",
       "      <td>262769</td>\n",
       "      <td>IND</td>\n",
       "      <td>9.766334e+03</td>\n",
       "      <td>1.808511e+06</td>\n",
       "      <td>4001.012454</td>\n",
       "      <td>False</td>\n",
       "      <td>YR2010</td>\n",
       "      <td>Japan</td>\n",
       "      <td>4.191739</td>\n",
       "      <td>5.700098e+12</td>\n",
       "      <td>0.337692</td>\n",
       "      <td>6154.025180</td>\n",
       "    </tr>\n",
       "  </tbody>\n",
       "</table>\n",
       "</div>"
      ],
      "text/plain": [
       "       targetC  previous_year  year       comp_id       id homeC  \\\n",
       "326336     SGP           2009  2010   US274384691  1228897   USA   \n",
       "241394     KOR           2009  2010  DE5190661252   711145   DEU   \n",
       "129389     GBR           2011  2012    GBOC303117   278132   GBR   \n",
       "259640     MEX           2011  2012  CA189872457L  1345904   CAN   \n",
       "227327     JPN           2010  2011  IN0002585651   262769   IND   \n",
       "\n",
       "               sales        assets         profit  investdum Time.Code  \\\n",
       "326336  7.355060e+05  1.115800e+05    3504.000000      False    YR2009   \n",
       "241394  1.108559e+06  4.343603e+02   15538.315860      False    YR2009   \n",
       "129389  2.227746e+05  1.566833e+05  178389.893900      False    YR2011   \n",
       "259640  6.881644e+05  6.000205e+06   99091.352340      False    YR2011   \n",
       "227327  9.766334e+03  1.808511e+06    4001.012454      False    YR2010   \n",
       "\n",
       "          Country.Name  GDPgrowth_p.a.prc       GDP.USD  polconiii  \\\n",
       "326336       Singapore           0.120983  1.941523e+11   0.031556   \n",
       "241394     Korea, Rep.           0.792699  9.439419e+11   0.435867   \n",
       "129389  United Kingdom           1.275708  2.659882e+12   0.409177   \n",
       "259640          Mexico           3.663008  1.180490e+12   0.400424   \n",
       "227327           Japan           4.191739  5.700098e+12   0.337692   \n",
       "\n",
       "            distance  \n",
       "326336  15163.044010  \n",
       "241394   8553.181257  \n",
       "129389      0.000000  \n",
       "259640   4155.410253  \n",
       "227327   6154.025180  "
      ]
     },
     "execution_count": 2,
     "metadata": {},
     "output_type": "execute_result"
    }
   ],
   "source": [
    "# You cannot directly run that code in Google Colab because you need to provide the data file from your Google Drive\n",
    "investment_data_original = pd.read_csv('./investmentdata_grid.csv', index_col=0)\n",
    "investment_data_original.sample(n=5)"
   ]
  },
  {
   "cell_type": "code",
   "execution_count": 3,
   "id": "6743ec1a-16a3-4ec7-9d1d-fb8d39da18e4",
   "metadata": {},
   "outputs": [
    {
     "data": {
      "text/plain": [
       "Index(['targetC', 'previous_year', 'year', 'comp_id', 'id', 'homeC', 'sales',\n",
       "       'assets', 'profit', 'investdum', 'Time.Code', 'Country.Name',\n",
       "       'GDPgrowth_p.a.prc', 'GDP.USD', 'polconiii', 'distance'],\n",
       "      dtype='object')"
      ]
     },
     "execution_count": 3,
     "metadata": {},
     "output_type": "execute_result"
    }
   ],
   "source": [
    "investment_data_original.columns"
   ]
  },
  {
   "cell_type": "code",
   "execution_count": null,
   "id": "093a1647-3077-4927-8a7a-5cf773c8d40c",
   "metadata": {},
   "outputs": [],
   "source": [
    "macro_data = pd.read_excel('./macrodata.xlsx')\n",
    "macro_data"
   ]
  },
  {
   "cell_type": "markdown",
   "id": "5b7d2cfb-e8d1-4371-a526-8e399ae17eaf",
   "metadata": {},
   "source": [
    "### Renaming Columns\n",
    "\n",
    "To make our lifes easier, we can use expressive variable names that suppport our understanding."
   ]
  },
  {
   "cell_type": "code",
   "execution_count": null,
   "id": "fb8f30b8-95e7-4cae-ba66-a32f58dd496e",
   "metadata": {},
   "outputs": [],
   "source": [
    "original_to_expressive_names = {'targetC': 'target_country', 'investdum': 'investment'}  # TODO: extend that\n",
    "original_to_expressive_names"
   ]
  },
  {
   "cell_type": "code",
   "execution_count": null,
   "id": "1ce9fc23-74a0-490c-b35a-9e96c0d658ec",
   "metadata": {},
   "outputs": [],
   "source": [
    "investment_data = investment_data_original.rename(columns=original_to_expressive_names)\n",
    "investment_data.head()"
   ]
  },
  {
   "cell_type": "markdown",
   "id": "2b157e35-303d-4aca-909d-4a02cd48dbd9",
   "metadata": {},
   "source": [
    "### Handling Text (Strings)\n",
    "\n",
    "If you variables are text, we cannot directly feed those variable into a model and need to first transform said text data into numerical data.\n",
    "\n",
    "We have different options to do that:\n",
    "* Explicitely/manually specify a mapping: `text value -> numerical value`\n",
    "  * This can become cumbersome to type if we need a large mapping\n",
    "* Automatically factorized or categorize a variable\n",
    "\n",
    "Below snippets demonstrates both.\n",
    "\n",
    "Comments:\n",
    "* During data exploration, i.e. in plots, tables, etc. we can leave the data as it is.\n",
    "* Depending on the kind of model we use, we may need to treat categorical data differently (see below)."
   ]
  },
  {
   "cell_type": "code",
   "execution_count": null,
   "id": "3deeed9c-5e7f-44db-84d7-eccd2eb7af9d",
   "metadata": {},
   "outputs": [],
   "source": [
    "investment_data.target_country.unique()"
   ]
  },
  {
   "cell_type": "code",
   "execution_count": null,
   "id": "be813b66-9570-4dfd-8bf3-7bb26c1615d5",
   "metadata": {},
   "outputs": [],
   "source": [
    "# manually\n",
    "country_code_to_numerical = {'AUS': 1, 'AUT': 2}  # TODO: extend that\n",
    "investment_data['target_country'] = investment_data['target_country'].replace(country_code_to_numerical)\n",
    "investment_data['target_country'].head()"
   ]
  },
  {
   "cell_type": "code",
   "execution_count": null,
   "id": "f3484865-e45a-4488-83fe-c14fed9d6b23",
   "metadata": {},
   "outputs": [],
   "source": [
    "# Note that as long as the dtype is object, there are still text value left (why?)"
   ]
  },
  {
   "cell_type": "code",
   "execution_count": null,
   "id": "d50eeb3a-f371-4e76-92c2-22f89f7019e3",
   "metadata": {},
   "outputs": [],
   "source": [
    "investment_data['target_country'].unique()"
   ]
  },
  {
   "cell_type": "code",
   "execution_count": null,
   "id": "f1a84934-725b-4a9d-977b-832f14230860",
   "metadata": {},
   "outputs": [],
   "source": [
    "investment_data['target_country'].value_counts()"
   ]
  },
  {
   "cell_type": "code",
   "execution_count": null,
   "id": "dbfaf19c-7712-4444-ae7f-e999955ec6fa",
   "metadata": {},
   "outputs": [],
   "source": [
    "# automatically"
   ]
  },
  {
   "cell_type": "code",
   "execution_count": null,
   "id": "7286f757-ee1d-48eb-8713-2bb26977ec41",
   "metadata": {},
   "outputs": [],
   "source": [
    "categorical_values, text_values = pd.factorize(investment_data['target_country'])\n",
    "categorical_values"
   ]
  },
  {
   "cell_type": "code",
   "execution_count": null,
   "id": "8eca32af-9bc7-4336-b161-d0151faf416f",
   "metadata": {},
   "outputs": [],
   "source": [
    "text_values"
   ]
  },
  {
   "cell_type": "code",
   "execution_count": null,
   "id": "9bcb4a71-705d-498f-b8f0-7f9bd42c85e9",
   "metadata": {},
   "outputs": [],
   "source": [
    "investment_data['target_country'] = categorical_values"
   ]
  },
  {
   "cell_type": "code",
   "execution_count": null,
   "id": "120b828b-715a-4a60-8c38-fc5e90aec7ac",
   "metadata": {},
   "outputs": [],
   "source": [
    "# if we want to keep a mapping, we can create it\n",
    "target_country_to_code = dict(zip(text_values, set(categorical_values)))\n",
    "target_country_to_code"
   ]
  },
  {
   "cell_type": "markdown",
   "id": "54afb8ab-4b81-454d-8463-c29907275e1d",
   "metadata": {},
   "source": [
    "### Handling Categorical Features\n",
    "\n",
    "*TBD later.*\n",
    "\n",
    "See also:\n",
    "* https://scikit-learn.org/stable/modules/preprocessing.html#preprocessing-categorical-features"
   ]
  },
  {
   "cell_type": "markdown",
   "id": "fc918648-162b-4123-a604-6d4f2aa10eb6",
   "metadata": {},
   "source": [
    "### Merging Data\n",
    "\n",
    "If you want to combine data sets, you can merge them.\n",
    "\n",
    "For sake of simplicity, let's assume we have to tables, i.e. DataFrames, where we wish to join columns on columns.\n",
    "\n",
    "See also:\n",
    "* https://pandas.pydata.org/pandas-docs/stable/user_guide/merging.html#merge"
   ]
  },
  {
   "cell_type": "code",
   "execution_count": null,
   "id": "5eeb1505-7d86-4587-8b08-cd80d5b579b4",
   "metadata": {},
   "outputs": [],
   "source": [
    "left = pd.DataFrame({\n",
    "    'column_to_merge_on_eg_country': ['AUS', 'AUT', 'BRA'], \n",
    "    'value_in_left': [1, 2, 3]\n",
    "})\n",
    "left"
   ]
  },
  {
   "cell_type": "code",
   "execution_count": null,
   "id": "9d17455f-940d-47eb-b48c-6a4dcea0961b",
   "metadata": {},
   "outputs": [],
   "source": [
    "right = pd.DataFrame({\n",
    "    'column_to_merge_on_eg_country': ['AUS', 'AUT', 'BRA'], \n",
    "    'value_in_right': [10, 20, 30]\n",
    "})"
   ]
  },
  {
   "cell_type": "code",
   "execution_count": null,
   "id": "b022def5-297e-4ba5-95e0-825509069afe",
   "metadata": {},
   "outputs": [],
   "source": [
    "merged = left.merge(right)\n",
    "merged"
   ]
  },
  {
   "cell_type": "markdown",
   "id": "a0e23bcf-d5e5-4230-b1e8-f545de8094f5",
   "metadata": {},
   "source": [
    "Comments:\n",
    "* If you are not sure how to implement your merge of how the result looks like\n",
    "  * take a step back and write it down on a sheet of paper,\n",
    "  * consider a small subset of the data and experiment with that.\n",
    "* `merge` allows for a range of options to adjust the behavior of the join.\n",
    "* If you are not sure what happened in the above, experiment with the code by changing the values, e.g.\n",
    "  * What if there are more columns?\n",
    "  * What if there is not a one-to-one correspondence between the column values that you merge on?\n",
    "  * ..."
   ]
  },
  {
   "cell_type": "code",
   "execution_count": null,
   "id": "f142eb4d-e744-426c-a1d4-4c330d4b1284",
   "metadata": {},
   "outputs": [],
   "source": []
  }
 ],
 "metadata": {
  "kernelspec": {
   "display_name": "Python 3 (ipykernel)",
   "language": "python",
   "name": "python3"
  },
  "language_info": {
   "codemirror_mode": {
    "name": "ipython",
    "version": 3
   },
   "file_extension": ".py",
   "mimetype": "text/x-python",
   "name": "python",
   "nbconvert_exporter": "python",
   "pygments_lexer": "ipython3",
   "version": "3.12.7"
  }
 },
 "nbformat": 4,
 "nbformat_minor": 5
}
