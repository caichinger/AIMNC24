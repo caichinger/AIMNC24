{
 "cells": [
  {
   "cell_type": "markdown",
   "id": "b943b3a8-1a51-4238-b14f-0334bf49cc82",
   "metadata": {},
   "source": [
    "# Hints & Snippets"
   ]
  },
  {
   "cell_type": "markdown",
   "id": "e8130d7b-b5d2-4f57-9f40-503b497215e6",
   "metadata": {},
   "source": [
    "## Problem Solving\n",
    "\n",
    "Here are a few problem solving strategies I invite you to consider:\n",
    "* What vs how:\n",
    "  * **What** do you want? \n",
    "  * **How** do you get there?\n",
    "  * When you know **what** you want, we (or the internet) can help you with the **how**\n",
    "* Paper coding: **What** do you want? Before you get bogged down in technical details (the **how** part of your implementation), forget all details and make a sketch.\n",
    "* Simplify: How can you simplify the problem, solve the simplified version and then iterate?\n",
    "* Divide and conquer: How can you break the problem down into (isolated) parts, work on them in isolation and then put them together later?"
   ]
  },
  {
   "cell_type": "markdown",
   "id": "4c174c5f-5b3c-4065-a640-07ea219e5576",
   "metadata": {},
   "source": [
    "## Modelling\n",
    "\n",
    "### Models\n",
    "\n",
    "Questions:\n",
    "* What kind of problem do we have?\n",
    "* Do we have categorical variables?\n",
    "  * If yes, do we need specific preprocessing for our model?\n",
    "\n",
    "Model candidates:\n",
    "* Logistic Regression\n",
    "* Random Forest\n",
    "* Histogram-based Gradient Boosting Classification Tree\n",
    "\n",
    "Comments:\n",
    "* The first two models are described in ISL.\n",
    "* You are invited to take a look but you can equally well treat them as a black box.\n",
    "* All models are available in scikit-learn.\n",
    "* The logistic regression is most similar to what we did already in class. It requires some preprocessing (which?).\n",
    "* Two ensemble methods (which?) require less preprocessing than the logistic regression (why?).\n",
    "* In a sense (which?) the random forest might be easiest to work with for a start.\n",
    "\n",
    "### Cross Validation\n",
    "\n",
    "Questions:\n",
    "* What kind of problem do we have?\n",
    "\n",
    "Comments:\n",
    "* Recall that our target variable is very unbalanced.\n",
    "* We can account for that by creating stratified splits.\n",
    "* See https://scikit-learn.org/stable/modules/cross_validation.html#cross-validation-iterators-with-stratification-based-on-class-labels"
   ]
  },
  {
   "cell_type": "markdown",
   "id": "6012e1cf-76ca-42b3-b74a-f909788de037",
   "metadata": {},
   "source": [
    "## Snippets"
   ]
  },
  {
   "cell_type": "code",
   "execution_count": 1,
   "id": "84e59cf9-3c91-4080-9fa4-ce532f022ab0",
   "metadata": {},
   "outputs": [
    {
     "name": "stdout",
     "output_type": "stream",
     "text": [
      "Using matplotlib backend: module://matplotlib_inline.backend_inline\n"
     ]
    }
   ],
   "source": [
    "import pandas as pd\n",
    "\n",
    "%matplotlib"
   ]
  },
  {
   "cell_type": "markdown",
   "id": "c008f2f1-69c0-4cf2-9311-37c38b74f588",
   "metadata": {},
   "source": [
    "### Reading Data"
   ]
  },
  {
   "cell_type": "code",
   "execution_count": 2,
   "id": "41f7f98e-0828-4fb4-8435-606758acc15b",
   "metadata": {},
   "outputs": [
    {
     "data": {
      "text/html": [
       "<div>\n",
       "<style scoped>\n",
       "    .dataframe tbody tr th:only-of-type {\n",
       "        vertical-align: middle;\n",
       "    }\n",
       "\n",
       "    .dataframe tbody tr th {\n",
       "        vertical-align: top;\n",
       "    }\n",
       "\n",
       "    .dataframe thead th {\n",
       "        text-align: right;\n",
       "    }\n",
       "</style>\n",
       "<table border=\"1\" class=\"dataframe\">\n",
       "  <thead>\n",
       "    <tr style=\"text-align: right;\">\n",
       "      <th></th>\n",
       "      <th>targetC</th>\n",
       "      <th>previous_year</th>\n",
       "      <th>year</th>\n",
       "      <th>comp_id</th>\n",
       "      <th>id</th>\n",
       "      <th>homeC</th>\n",
       "      <th>sales</th>\n",
       "      <th>assets</th>\n",
       "      <th>profit</th>\n",
       "      <th>investdum</th>\n",
       "      <th>Time.Code</th>\n",
       "      <th>Country.Name</th>\n",
       "      <th>GDPgrowth_p.a.prc</th>\n",
       "      <th>GDP.USD</th>\n",
       "      <th>polconiii</th>\n",
       "      <th>distance</th>\n",
       "    </tr>\n",
       "  </thead>\n",
       "  <tbody>\n",
       "    <tr>\n",
       "      <th>173946</th>\n",
       "      <td>IDN</td>\n",
       "      <td>2011</td>\n",
       "      <td>2012</td>\n",
       "      <td>GBGGLP1545</td>\n",
       "      <td>173050</td>\n",
       "      <td>GBR</td>\n",
       "      <td>3.177728e+06</td>\n",
       "      <td>4.636572e+06</td>\n",
       "      <td>3.466650e+05</td>\n",
       "      <td>False</td>\n",
       "      <td>YR2011</td>\n",
       "      <td>Indonesia</td>\n",
       "      <td>6.169784</td>\n",
       "      <td>8.929691e+11</td>\n",
       "      <td>0.560267</td>\n",
       "      <td>12511.577090</td>\n",
       "    </tr>\n",
       "    <tr>\n",
       "      <th>77342</th>\n",
       "      <td>DEU</td>\n",
       "      <td>2008</td>\n",
       "      <td>2009</td>\n",
       "      <td>US129402090L</td>\n",
       "      <td>693706</td>\n",
       "      <td>USA</td>\n",
       "      <td>1.508700e+04</td>\n",
       "      <td>1.238700e+04</td>\n",
       "      <td>1.330000e+02</td>\n",
       "      <td>False</td>\n",
       "      <td>YR2008</td>\n",
       "      <td>Germany</td>\n",
       "      <td>0.959879</td>\n",
       "      <td>3.730028e+12</td>\n",
       "      <td>0.473652</td>\n",
       "      <td>7794.769324</td>\n",
       "    </tr>\n",
       "    <tr>\n",
       "      <th>43738</th>\n",
       "      <td>CAN</td>\n",
       "      <td>2007</td>\n",
       "      <td>2008</td>\n",
       "      <td>DE5150000094</td>\n",
       "      <td>289641</td>\n",
       "      <td>DEU</td>\n",
       "      <td>7.333808e+07</td>\n",
       "      <td>5.398515e+07</td>\n",
       "      <td>2.980427e+06</td>\n",
       "      <td>False</td>\n",
       "      <td>YR2007</td>\n",
       "      <td>Canada</td>\n",
       "      <td>6.868609</td>\n",
       "      <td>1.468820e+12</td>\n",
       "      <td>0.464026</td>\n",
       "      <td>5939.580330</td>\n",
       "    </tr>\n",
       "    <tr>\n",
       "      <th>95573</th>\n",
       "      <td>ESP</td>\n",
       "      <td>2009</td>\n",
       "      <td>2010</td>\n",
       "      <td>CA*P0033597</td>\n",
       "      <td>421763</td>\n",
       "      <td>CAN</td>\n",
       "      <td>6.212794e+06</td>\n",
       "      <td>9.162056e+06</td>\n",
       "      <td>5.140152e+05</td>\n",
       "      <td>False</td>\n",
       "      <td>YR2009</td>\n",
       "      <td>Spain</td>\n",
       "      <td>-3.763232</td>\n",
       "      <td>1.485583e+12</td>\n",
       "      <td>0.335315</td>\n",
       "      <td>6305.020680</td>\n",
       "    </tr>\n",
       "    <tr>\n",
       "      <th>249891</th>\n",
       "      <td>MEX</td>\n",
       "      <td>2007</td>\n",
       "      <td>2008</td>\n",
       "      <td>FR432887875</td>\n",
       "      <td>1084666</td>\n",
       "      <td>FRA</td>\n",
       "      <td>1.164218e+04</td>\n",
       "      <td>1.589050e+04</td>\n",
       "      <td>-7.463306e+03</td>\n",
       "      <td>False</td>\n",
       "      <td>YR2007</td>\n",
       "      <td>Mexico</td>\n",
       "      <td>2.291446</td>\n",
       "      <td>1.052696e+12</td>\n",
       "      <td>0.557564</td>\n",
       "      <td>9211.370450</td>\n",
       "    </tr>\n",
       "  </tbody>\n",
       "</table>\n",
       "</div>"
      ],
      "text/plain": [
       "       targetC  previous_year  year       comp_id       id homeC  \\\n",
       "173946     IDN           2011  2012    GBGGLP1545   173050   GBR   \n",
       "77342      DEU           2008  2009  US129402090L   693706   USA   \n",
       "43738      CAN           2007  2008  DE5150000094   289641   DEU   \n",
       "95573      ESP           2009  2010   CA*P0033597   421763   CAN   \n",
       "249891     MEX           2007  2008   FR432887875  1084666   FRA   \n",
       "\n",
       "               sales        assets        profit  investdum Time.Code  \\\n",
       "173946  3.177728e+06  4.636572e+06  3.466650e+05      False    YR2011   \n",
       "77342   1.508700e+04  1.238700e+04  1.330000e+02      False    YR2008   \n",
       "43738   7.333808e+07  5.398515e+07  2.980427e+06      False    YR2007   \n",
       "95573   6.212794e+06  9.162056e+06  5.140152e+05      False    YR2009   \n",
       "249891  1.164218e+04  1.589050e+04 -7.463306e+03      False    YR2007   \n",
       "\n",
       "       Country.Name  GDPgrowth_p.a.prc       GDP.USD  polconiii      distance  \n",
       "173946    Indonesia           6.169784  8.929691e+11   0.560267  12511.577090  \n",
       "77342       Germany           0.959879  3.730028e+12   0.473652   7794.769324  \n",
       "43738        Canada           6.868609  1.468820e+12   0.464026   5939.580330  \n",
       "95573         Spain          -3.763232  1.485583e+12   0.335315   6305.020680  \n",
       "249891       Mexico           2.291446  1.052696e+12   0.557564   9211.370450  "
      ]
     },
     "execution_count": 2,
     "metadata": {},
     "output_type": "execute_result"
    }
   ],
   "source": [
    "# You cannot directly run that code in Google Colab because you need to provide the data file from your Google Drive\n",
    "investment_data_original = pd.read_csv('./investmentdata_grid.csv', index_col=0)\n",
    "investment_data_original.sample(n=5)"
   ]
  },
  {
   "cell_type": "code",
   "execution_count": 3,
   "id": "6743ec1a-16a3-4ec7-9d1d-fb8d39da18e4",
   "metadata": {},
   "outputs": [
    {
     "data": {
      "text/plain": [
       "Index(['targetC', 'previous_year', 'year', 'comp_id', 'id', 'homeC', 'sales',\n",
       "       'assets', 'profit', 'investdum', 'Time.Code', 'Country.Name',\n",
       "       'GDPgrowth_p.a.prc', 'GDP.USD', 'polconiii', 'distance'],\n",
       "      dtype='object')"
      ]
     },
     "execution_count": 3,
     "metadata": {},
     "output_type": "execute_result"
    }
   ],
   "source": [
    "investment_data_original.columns"
   ]
  },
  {
   "cell_type": "code",
   "execution_count": null,
   "id": "093a1647-3077-4927-8a7a-5cf773c8d40c",
   "metadata": {},
   "outputs": [],
   "source": [
    "macro_data = pd.read_excel('./macrodata.xlsx')\n",
    "macro_data"
   ]
  },
  {
   "cell_type": "markdown",
   "id": "5b7d2cfb-e8d1-4371-a526-8e399ae17eaf",
   "metadata": {},
   "source": [
    "### Renaming Columns\n",
    "\n",
    "To make our lifes easier, we can use expressive variable names that suppport our understanding."
   ]
  },
  {
   "cell_type": "code",
   "execution_count": null,
   "id": "fb8f30b8-95e7-4cae-ba66-a32f58dd496e",
   "metadata": {},
   "outputs": [],
   "source": [
    "original_to_expressive_names = {'targetC': 'target_country', 'investdum': 'investment'}  # TODO: extend that\n",
    "original_to_expressive_names"
   ]
  },
  {
   "cell_type": "code",
   "execution_count": null,
   "id": "1ce9fc23-74a0-490c-b35a-9e96c0d658ec",
   "metadata": {},
   "outputs": [],
   "source": [
    "investment_data = investment_data_original.rename(columns=original_to_expressive_names)\n",
    "investment_data.head()"
   ]
  },
  {
   "cell_type": "markdown",
   "id": "2b157e35-303d-4aca-909d-4a02cd48dbd9",
   "metadata": {},
   "source": [
    "### Handling Text (Strings)\n",
    "\n",
    "If you variables are text, we cannot directly feed those variable into a model and need to first transform said text data into numerical data.\n",
    "\n",
    "We have different options to do that:\n",
    "* Explicitely/manually specify a mapping: `text value -> numerical value`\n",
    "  * This can become cumbersome to type if we need a large mapping\n",
    "* Automatically factorized or categorize a variable\n",
    "\n",
    "Below snippets demonstrates both.\n",
    "\n",
    "Comments:\n",
    "* During data exploration, i.e. in plots, tables, etc. we can leave the data as it is.\n",
    "* Depending on the kind of model we use, we may need to treat categorical data differently (see below)."
   ]
  },
  {
   "cell_type": "code",
   "execution_count": null,
   "id": "3deeed9c-5e7f-44db-84d7-eccd2eb7af9d",
   "metadata": {},
   "outputs": [],
   "source": [
    "investment_data.target_country.unique()"
   ]
  },
  {
   "cell_type": "code",
   "execution_count": null,
   "id": "be813b66-9570-4dfd-8bf3-7bb26c1615d5",
   "metadata": {},
   "outputs": [],
   "source": [
    "# manually\n",
    "country_code_to_numerical = {'AUS': 1, 'AUT': 2}  # TODO: extend that\n",
    "investment_data['target_country'] = investment_data['target_country'].replace(country_code_to_numerical)\n",
    "investment_data['target_country'].head()"
   ]
  },
  {
   "cell_type": "code",
   "execution_count": null,
   "id": "f3484865-e45a-4488-83fe-c14fed9d6b23",
   "metadata": {},
   "outputs": [],
   "source": [
    "# Note that as long as the dtype is object, there are still text value left (why?)"
   ]
  },
  {
   "cell_type": "code",
   "execution_count": null,
   "id": "d50eeb3a-f371-4e76-92c2-22f89f7019e3",
   "metadata": {},
   "outputs": [],
   "source": [
    "investment_data['target_country'].unique()"
   ]
  },
  {
   "cell_type": "code",
   "execution_count": null,
   "id": "f1a84934-725b-4a9d-977b-832f14230860",
   "metadata": {},
   "outputs": [],
   "source": [
    "investment_data['target_country'].value_counts()"
   ]
  },
  {
   "cell_type": "code",
   "execution_count": null,
   "id": "dbfaf19c-7712-4444-ae7f-e999955ec6fa",
   "metadata": {},
   "outputs": [],
   "source": [
    "# automatically"
   ]
  },
  {
   "cell_type": "code",
   "execution_count": null,
   "id": "7286f757-ee1d-48eb-8713-2bb26977ec41",
   "metadata": {},
   "outputs": [],
   "source": [
    "categorical_values, text_values = pd.factorize(investment_data['target_country'])\n",
    "categorical_values"
   ]
  },
  {
   "cell_type": "code",
   "execution_count": null,
   "id": "8eca32af-9bc7-4336-b161-d0151faf416f",
   "metadata": {},
   "outputs": [],
   "source": [
    "text_values"
   ]
  },
  {
   "cell_type": "code",
   "execution_count": null,
   "id": "9bcb4a71-705d-498f-b8f0-7f9bd42c85e9",
   "metadata": {},
   "outputs": [],
   "source": [
    "investment_data['target_country'] = categorical_values"
   ]
  },
  {
   "cell_type": "code",
   "execution_count": null,
   "id": "120b828b-715a-4a60-8c38-fc5e90aec7ac",
   "metadata": {},
   "outputs": [],
   "source": [
    "# if we want to keep a mapping, we can create it\n",
    "target_country_to_code = dict(zip(text_values, set(categorical_values)))\n",
    "target_country_to_code"
   ]
  },
  {
   "cell_type": "markdown",
   "id": "54afb8ab-4b81-454d-8463-c29907275e1d",
   "metadata": {},
   "source": [
    "### Handling Categorical Features\n",
    "\n",
    "*TBD later.*\n",
    "\n",
    "See also:\n",
    "* https://scikit-learn.org/stable/modules/preprocessing.html#preprocessing-categorical-features"
   ]
  },
  {
   "cell_type": "markdown",
   "id": "fc918648-162b-4123-a604-6d4f2aa10eb6",
   "metadata": {},
   "source": [
    "### Merging Data\n",
    "\n",
    "If you want to combine data sets, you can merge them.\n",
    "\n",
    "For sake of simplicity, let's assume we have to tables, i.e. DataFrames, where we wish to join columns on columns.\n",
    "\n",
    "See also:\n",
    "* https://pandas.pydata.org/pandas-docs/stable/user_guide/merging.html#merge"
   ]
  },
  {
   "cell_type": "code",
   "execution_count": null,
   "id": "5eeb1505-7d86-4587-8b08-cd80d5b579b4",
   "metadata": {},
   "outputs": [],
   "source": [
    "left = pd.DataFrame({\n",
    "    'column_to_merge_on_eg_country': ['AUS', 'AUT', 'BRA'], \n",
    "    'value_in_left': [1, 2, 3]\n",
    "})\n",
    "left"
   ]
  },
  {
   "cell_type": "code",
   "execution_count": null,
   "id": "9d17455f-940d-47eb-b48c-6a4dcea0961b",
   "metadata": {},
   "outputs": [],
   "source": [
    "right = pd.DataFrame({\n",
    "    'column_to_merge_on_eg_country': ['AUS', 'AUT', 'BRA'], \n",
    "    'value_in_right': [10, 20, 30]\n",
    "})"
   ]
  },
  {
   "cell_type": "code",
   "execution_count": null,
   "id": "b022def5-297e-4ba5-95e0-825509069afe",
   "metadata": {},
   "outputs": [],
   "source": [
    "merged = left.merge(right)\n",
    "merged"
   ]
  },
  {
   "cell_type": "markdown",
   "id": "a0e23bcf-d5e5-4230-b1e8-f545de8094f5",
   "metadata": {},
   "source": [
    "Comments:\n",
    "* If you are not sure how to implement your merge of how the result looks like\n",
    "  * take a step back and write it down on a sheet of paper,\n",
    "  * consider a small subset of the data and experiment with that.\n",
    "* `merge` allows for a range of options to adjust the behavior of the join.\n",
    "* If you are not sure what happened in the above, experiment with the code by changing the values, e.g.\n",
    "  * What if there are more columns?\n",
    "  * What if there is not a one-to-one correspondence between the column values that you merge on?\n",
    "  * ..."
   ]
  },
  {
   "cell_type": "code",
   "execution_count": null,
   "id": "f142eb4d-e744-426c-a1d4-4c330d4b1284",
   "metadata": {},
   "outputs": [],
   "source": []
  }
 ],
 "metadata": {
  "kernelspec": {
   "display_name": "Python 3 (ipykernel)",
   "language": "python",
   "name": "python3"
  },
  "language_info": {
   "codemirror_mode": {
    "name": "ipython",
    "version": 3
   },
   "file_extension": ".py",
   "mimetype": "text/x-python",
   "name": "python",
   "nbconvert_exporter": "python",
   "pygments_lexer": "ipython3",
   "version": "3.12.7"
  }
 },
 "nbformat": 4,
 "nbformat_minor": 5
}
